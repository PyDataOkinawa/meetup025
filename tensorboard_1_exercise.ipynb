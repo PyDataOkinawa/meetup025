{
 "cells": [
  {
   "cell_type": "markdown",
   "metadata": {},
   "source": [
    "# TensorBoardで学習を可視化\n",
    "\n",
    "- [TensorBoard: Visualizing Learning](https://www.tensorflow.org/get_started/summaries_and_tensorboard)\n",
    "- [Dandelion Mané on GitHub](https://github.com/dandelionmane)\n",
    "- https://github.com/mamcgrath/TensorBoard-TF-Dev-Summit-Tutorial"
   ]
  },
  {
   "cell_type": "markdown",
   "metadata": {},
   "source": [
    "- MNIST\n",
    "- C - P - C - P - F - F"
   ]
  },
  {
   "cell_type": "code",
   "execution_count": null,
   "metadata": {
    "collapsed": true
   },
   "outputs": [],
   "source": [
    "import os, shutil"
   ]
  },
  {
   "cell_type": "code",
   "execution_count": null,
   "metadata": {
    "collapsed": true
   },
   "outputs": [],
   "source": [
    "import tensorflow as tf"
   ]
  },
  {
   "cell_type": "code",
   "execution_count": null,
   "metadata": {
    "collapsed": true
   },
   "outputs": [],
   "source": [
    "LOGDIR = '/tmp/mnist_demo/1'"
   ]
  },
  {
   "cell_type": "code",
   "execution_count": null,
   "metadata": {
    "collapsed": false
   },
   "outputs": [],
   "source": [
    "if os.path.exists(LOGDIR):\n",
    "    shutil.rmtree(LOGDIR)"
   ]
  },
  {
   "cell_type": "markdown",
   "metadata": {},
   "source": [
    "## データの読み込み"
   ]
  },
  {
   "cell_type": "code",
   "execution_count": null,
   "metadata": {
    "collapsed": false,
    "scrolled": true
   },
   "outputs": [],
   "source": [
    "from tensorflow.examples.tutorials.mnist import input_data\n",
    "mnist = input_data.read_data_sets('MNIST_data', one_hot=True)"
   ]
  },
  {
   "cell_type": "markdown",
   "metadata": {},
   "source": [
    "## レイヤーを定義"
   ]
  },
  {
   "cell_type": "code",
   "execution_count": null,
   "metadata": {
    "collapsed": false
   },
   "outputs": [],
   "source": [
    "# 畳み込み層\n",
    "def conv_layer(input, channels_in, channels_out):\n",
    "    w = <FILL_IN>  # 5 x 5 \n",
    "    b = <FILL_IN>\n",
    "    conv = tf.nn.conv2d(<FILL_IN>)  # strides = [1, 1, 1, 1]\n",
    "    act = tf.nn.relu(conv + b)\n",
    "    pool = tf.nn.max_pool(<FILL_IN>)  # strides, ksize = [1, 2, 2, 1], padding = same\n",
    "    return pool"
   ]
  },
  {
   "cell_type": "code",
   "execution_count": null,
   "metadata": {
    "collapsed": true
   },
   "outputs": [],
   "source": [
    "# 全結合層　\n",
    "def fc_layer(input, channels_in, channels_out):\n",
    "    w = <FILL_IN>\n",
    "    b = <FILL_IN>\n",
    "    logits = tf.matmul(input, w)+ b\n",
    "    return logits"
   ]
  },
  {
   "cell_type": "markdown",
   "metadata": {},
   "source": [
    "## モデルの構築"
   ]
  },
  {
   "cell_type": "code",
   "execution_count": null,
   "metadata": {
    "collapsed": false
   },
   "outputs": [],
   "source": [
    "# 入力と出力を保持するプレースホルダを用意し、入力を変形\n",
    "x = <FILL_IN>\n",
    "y = <FILL_IN>\n",
    "x_image = tf.reshape(x, <FILL_IN>)\n",
    "\n",
    "# ネットワークを構築\n",
    "conv1 = conv_layer(x_image, 1, 32)\n",
    "conv2 = conv_layer(conv1, 32, 64)\n",
    "flattened = tf.reshape(conv2, <FILL_IN>)\n",
    "\n",
    "# 全結合層のノード数は1024\n",
    "fc1_logits = fc_layer(flattened, <FILL_IN>)\n",
    "fc1 = tf.nn.relu(fc1_logits)\n",
    "logits = fc_layer(fc1, <FILL_IN>)"
   ]
  },
  {
   "cell_type": "markdown",
   "metadata": {},
   "source": [
    "## 損失関数と最適化手法"
   ]
  },
  {
   "cell_type": "code",
   "execution_count": null,
   "metadata": {
    "collapsed": true
   },
   "outputs": [],
   "source": [
    "# 損失関数にはクロスエントロピーを使用\n",
    "cross_entropy = <FILL_IN>"
   ]
  },
  {
   "cell_type": "code",
   "execution_count": null,
   "metadata": {
    "collapsed": true
   },
   "outputs": [],
   "source": [
    "# 最適化手法にはAdamを使用\n",
    "train_step = tf.train.<FILL_IN>.minimize(cross_entropy)"
   ]
  },
  {
   "cell_type": "code",
   "execution_count": null,
   "metadata": {
    "collapsed": false
   },
   "outputs": [],
   "source": [
    "# 正答率を計算\n",
    "correct_prediction = <FILL_IN>\n",
    "accuracy = <FILL_IN>"
   ]
  },
  {
   "cell_type": "markdown",
   "metadata": {},
   "source": [
    "## 学習"
   ]
  },
  {
   "cell_type": "code",
   "execution_count": null,
   "metadata": {
    "collapsed": false
   },
   "outputs": [],
   "source": [
    "sess = tf.InteractiveSession()"
   ]
  },
  {
   "cell_type": "code",
   "execution_count": null,
   "metadata": {
    "collapsed": false
   },
   "outputs": [],
   "source": [
    "# 変数の初期化\n",
    "sess.run(<FILL_IN>)"
   ]
  },
  {
   "cell_type": "code",
   "execution_count": null,
   "metadata": {
    "collapsed": true
   },
   "outputs": [],
   "source": [
    "# TensorBoard用の準備\n",
    "writer = tf.summary.FileWriter(LOGDIR)  # FileWriterとイベントファイルを作成"
   ]
  },
  {
   "cell_type": "code",
   "execution_count": null,
   "metadata": {
    "collapsed": true
   },
   "outputs": [],
   "source": [
    "# 計算グラフの可視化\n",
    "writer.add_graph(sess.graph)  # 計算グラフ（Graph）をイベントファイルに書き出す"
   ]
  },
  {
   "cell_type": "code",
   "execution_count": null,
   "metadata": {
    "collapsed": false,
    "scrolled": false
   },
   "outputs": [],
   "source": [
    "# 250ステップ学習\n",
    "for i in range(251):\n",
    "    \n",
    "    batch = mnist.train.next_batch(100)\n",
    "    \n",
    "    if i % 5 == 0:\n",
    "        [train_accuracy] = sess.run([accuracy], feed_dict={x: batch[0], y: batch[1]})\n",
    "        print(\"step %d, training accuracy %g\" % (i, train_accuracy))\n",
    "        \n",
    "    if i % 50 == 0:\n",
    "        [test_accuracy] = sess.run([accuracy], feed_dict={x: mnist.test.images[:1024], y: mnist.test.labels[:1024]})\n",
    "        print(\"---- step %d, test accuracy %g\" % (i, test_accuracy))\n",
    "        \n",
    "    # 学習\n",
    "    sess.run(train_step, feed_dict={x: batch[0], y: batch[1]})\n",
    "    \n",
    "writer.close()    "
   ]
  },
  {
   "cell_type": "markdown",
   "metadata": {},
   "source": [
    "## TensorBoardの呼び出し\n",
    "\n",
    "tensorboard --logdir /tmp/mnist_demo/1"
   ]
  }
 ],
 "metadata": {
  "kernelspec": {
   "display_name": "Python 2",
   "language": "python",
   "name": "python2"
  },
  "language_info": {
   "codemirror_mode": {
    "name": "ipython",
    "version": 2
   },
   "file_extension": ".py",
   "mimetype": "text/x-python",
   "name": "python",
   "nbconvert_exporter": "python",
   "pygments_lexer": "ipython2",
   "version": "2.7.13"
  }
 },
 "nbformat": 4,
 "nbformat_minor": 2
}
